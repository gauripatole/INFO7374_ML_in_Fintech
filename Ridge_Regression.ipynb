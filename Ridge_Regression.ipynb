{
 "cells": [
  {
   "cell_type": "code",
   "execution_count": 20,
   "metadata": {
    "id": "NVjkrm8LN7Vp"
   },
   "outputs": [],
   "source": [
    "import pandas as pd\n",
    "import numpy as np\n",
    "import matplotlib.pyplot as plt\n",
    "from datetime import datetime\n",
    "import io\n",
    "#from google.colab import files\n",
    "from sklearn.model_selection import train_test_split\n",
    "from sklearn.linear_model import Ridge\n",
    "from sklearn.metrics import mean_squared_error\n",
    "import statsmodels.api as sm\n",
    "import scipy.stats as ss\n",
    "from sklearn.impute import SimpleImputer\n",
    "from sklearn.linear_model import RidgeCV\n",
    "from sklearn.model_selection import cross_val_score"
   ]
  },
  {
   "cell_type": "code",
   "execution_count": 21,
   "metadata": {
    "colab": {
     "base_uri": "https://localhost:8080/",
     "height": 502
    },
    "id": "NDWRxlenOEOF",
    "outputId": "1131c3a7-cd55-4b72-d2e7-aafff90f5dbc"
   },
   "outputs": [],
   "source": [
    "# Load and Define dataset:\n",
    "start_date = datetime(2023,1,1)\n",
    "end_date = datetime(2023,10,31)\n",
    "data = pd.read_csv('INFOP7374_FeatureMart4GS.csv', index_col = [0])"
   ]
  },
  {
   "cell_type": "code",
   "execution_count": 22,
   "metadata": {
    "id": "Zv70Yc8MkIoU"
   },
   "outputs": [],
   "source": [
    "start_date = datetime(2021,1,1)\n",
    "end_date = datetime(2023,10,31)"
   ]
  },
  {
   "cell_type": "code",
   "execution_count": 23,
   "metadata": {
    "colab": {
     "base_uri": "https://localhost:8080/",
     "height": 360
    },
    "id": "3a6WTWjAk-5-",
    "outputId": "762ef2e7-b6b0-43b8-ff66-6c2494071350"
   },
   "outputs": [
    {
     "data": {
      "text/html": [
       "<div>\n",
       "<style scoped>\n",
       "    .dataframe tbody tr th:only-of-type {\n",
       "        vertical-align: middle;\n",
       "    }\n",
       "\n",
       "    .dataframe tbody tr th {\n",
       "        vertical-align: top;\n",
       "    }\n",
       "\n",
       "    .dataframe thead th {\n",
       "        text-align: right;\n",
       "    }\n",
       "</style>\n",
       "<table border=\"1\" class=\"dataframe\">\n",
       "  <thead>\n",
       "    <tr style=\"text-align: right;\">\n",
       "      <th></th>\n",
       "      <th>Date</th>\n",
       "      <th>Open</th>\n",
       "      <th>High</th>\n",
       "      <th>Low</th>\n",
       "      <th>Close</th>\n",
       "      <th>Adj Close</th>\n",
       "      <th>Volume</th>\n",
       "      <th>Mkt-RF</th>\n",
       "      <th>SMB</th>\n",
       "      <th>HML</th>\n",
       "      <th>...</th>\n",
       "      <th>RIFSPPFAAD90NB</th>\n",
       "      <th>DCPN3M</th>\n",
       "      <th>DCPF1M</th>\n",
       "      <th>DCOILWTICO</th>\n",
       "      <th>DHHNGSP</th>\n",
       "      <th>USRECD</th>\n",
       "      <th>USRECDM</th>\n",
       "      <th>USRECDP</th>\n",
       "      <th>Yest_Close</th>\n",
       "      <th>stock_return</th>\n",
       "    </tr>\n",
       "  </thead>\n",
       "  <tbody>\n",
       "    <tr>\n",
       "      <th>253</th>\n",
       "      <td>2021-01-04</td>\n",
       "      <td>351.670013</td>\n",
       "      <td>356.829987</td>\n",
       "      <td>346.410004</td>\n",
       "      <td>356.399994</td>\n",
       "      <td>356.399994</td>\n",
       "      <td>2015300</td>\n",
       "      <td>-1.41</td>\n",
       "      <td>0.16</td>\n",
       "      <td>0.58</td>\n",
       "      <td>...</td>\n",
       "      <td>0.13</td>\n",
       "      <td>0.10</td>\n",
       "      <td>0.09</td>\n",
       "      <td>47.47</td>\n",
       "      <td>2.60</td>\n",
       "      <td>0.0</td>\n",
       "      <td>0.0</td>\n",
       "      <td>0.0</td>\n",
       "      <td>348.029999</td>\n",
       "      <td>0.024050</td>\n",
       "    </tr>\n",
       "    <tr>\n",
       "      <th>254</th>\n",
       "      <td>2021-01-05</td>\n",
       "      <td>357.890015</td>\n",
       "      <td>369.440002</td>\n",
       "      <td>357.380005</td>\n",
       "      <td>366.500000</td>\n",
       "      <td>366.500000</td>\n",
       "      <td>2122900</td>\n",
       "      <td>0.86</td>\n",
       "      <td>1.32</td>\n",
       "      <td>0.49</td>\n",
       "      <td>...</td>\n",
       "      <td>0.15</td>\n",
       "      <td>0.11</td>\n",
       "      <td>0.10</td>\n",
       "      <td>49.78</td>\n",
       "      <td>2.77</td>\n",
       "      <td>0.0</td>\n",
       "      <td>0.0</td>\n",
       "      <td>0.0</td>\n",
       "      <td>356.399994</td>\n",
       "      <td>0.028339</td>\n",
       "    </tr>\n",
       "    <tr>\n",
       "      <th>255</th>\n",
       "      <td>2021-01-06</td>\n",
       "      <td>362.109985</td>\n",
       "      <td>367.600006</td>\n",
       "      <td>357.480011</td>\n",
       "      <td>363.250000</td>\n",
       "      <td>363.250000</td>\n",
       "      <td>1170800</td>\n",
       "      <td>0.79</td>\n",
       "      <td>3.15</td>\n",
       "      <td>3.94</td>\n",
       "      <td>...</td>\n",
       "      <td>0.13</td>\n",
       "      <td>0.11</td>\n",
       "      <td>NaN</td>\n",
       "      <td>50.45</td>\n",
       "      <td>2.76</td>\n",
       "      <td>0.0</td>\n",
       "      <td>0.0</td>\n",
       "      <td>0.0</td>\n",
       "      <td>366.500000</td>\n",
       "      <td>-0.008868</td>\n",
       "    </tr>\n",
       "    <tr>\n",
       "      <th>256</th>\n",
       "      <td>2021-01-07</td>\n",
       "      <td>366.869995</td>\n",
       "      <td>374.200012</td>\n",
       "      <td>364.600006</td>\n",
       "      <td>367.290009</td>\n",
       "      <td>367.290009</td>\n",
       "      <td>1103000</td>\n",
       "      <td>1.76</td>\n",
       "      <td>0.02</td>\n",
       "      <td>-0.83</td>\n",
       "      <td>...</td>\n",
       "      <td>0.14</td>\n",
       "      <td>0.10</td>\n",
       "      <td>NaN</td>\n",
       "      <td>50.63</td>\n",
       "      <td>2.81</td>\n",
       "      <td>0.0</td>\n",
       "      <td>0.0</td>\n",
       "      <td>0.0</td>\n",
       "      <td>363.250000</td>\n",
       "      <td>0.011122</td>\n",
       "    </tr>\n",
       "    <tr>\n",
       "      <th>257</th>\n",
       "      <td>2021-01-08</td>\n",
       "      <td>367.359985</td>\n",
       "      <td>370.540009</td>\n",
       "      <td>362.589996</td>\n",
       "      <td>365.459991</td>\n",
       "      <td>365.459991</td>\n",
       "      <td>994900</td>\n",
       "      <td>0.51</td>\n",
       "      <td>-1.01</td>\n",
       "      <td>-1.37</td>\n",
       "      <td>...</td>\n",
       "      <td>0.13</td>\n",
       "      <td>0.10</td>\n",
       "      <td>NaN</td>\n",
       "      <td>52.14</td>\n",
       "      <td>2.77</td>\n",
       "      <td>0.0</td>\n",
       "      <td>0.0</td>\n",
       "      <td>0.0</td>\n",
       "      <td>367.290009</td>\n",
       "      <td>-0.004982</td>\n",
       "    </tr>\n",
       "  </tbody>\n",
       "</table>\n",
       "<p>5 rows × 32 columns</p>\n",
       "</div>"
      ],
      "text/plain": [
       "          Date        Open        High         Low       Close   Adj Close  \\\n",
       "253 2021-01-04  351.670013  356.829987  346.410004  356.399994  356.399994   \n",
       "254 2021-01-05  357.890015  369.440002  357.380005  366.500000  366.500000   \n",
       "255 2021-01-06  362.109985  367.600006  357.480011  363.250000  363.250000   \n",
       "256 2021-01-07  366.869995  374.200012  364.600006  367.290009  367.290009   \n",
       "257 2021-01-08  367.359985  370.540009  362.589996  365.459991  365.459991   \n",
       "\n",
       "      Volume  Mkt-RF   SMB   HML  ...  RIFSPPFAAD90NB  DCPN3M  DCPF1M  \\\n",
       "253  2015300   -1.41  0.16  0.58  ...            0.13    0.10    0.09   \n",
       "254  2122900    0.86  1.32  0.49  ...            0.15    0.11    0.10   \n",
       "255  1170800    0.79  3.15  3.94  ...            0.13    0.11     NaN   \n",
       "256  1103000    1.76  0.02 -0.83  ...            0.14    0.10     NaN   \n",
       "257   994900    0.51 -1.01 -1.37  ...            0.13    0.10     NaN   \n",
       "\n",
       "     DCOILWTICO  DHHNGSP  USRECD  USRECDM  USRECDP  Yest_Close  stock_return  \n",
       "253       47.47     2.60     0.0      0.0      0.0  348.029999      0.024050  \n",
       "254       49.78     2.77     0.0      0.0      0.0  356.399994      0.028339  \n",
       "255       50.45     2.76     0.0      0.0      0.0  366.500000     -0.008868  \n",
       "256       50.63     2.81     0.0      0.0      0.0  363.250000      0.011122  \n",
       "257       52.14     2.77     0.0      0.0      0.0  367.290009     -0.004982  \n",
       "\n",
       "[5 rows x 32 columns]"
      ]
     },
     "execution_count": 23,
     "metadata": {},
     "output_type": "execute_result"
    }
   ],
   "source": [
    "data['Date'] = pd.to_datetime(data['Date'])\n",
    "filter = (data['Date'] >= start_date) & (data['Date'] <= end_date)\n",
    "data = data.loc[filter]\n",
    "data.head()"
   ]
  },
  {
   "cell_type": "code",
   "execution_count": 24,
   "metadata": {
    "id": "-3UEMPufmkQj"
   },
   "outputs": [],
   "source": [
    "# Copying the data into another variable\n",
    "data2 = data.copy()\n",
    "# Normalizing the data\n",
    "for column in data.columns[1:]:\n",
    "    if column != 'META_ADJ CLOSE':\n",
    "        data2[column] = (data[column] - data[column].mean()) / data[column].std()"
   ]
  },
  {
   "cell_type": "code",
   "execution_count": 25,
   "metadata": {
    "colab": {
     "base_uri": "https://localhost:8080/"
    },
    "id": "Pk3IW5GTnUnV",
    "outputId": "225cc8ee-2816-4dbe-efb5-3ca240eca7dd"
   },
   "outputs": [
    {
     "data": {
      "text/plain": [
       "Index(['Date', 'Open', 'High', 'Low', 'Close', 'Adj Close', 'Volume', 'Mkt-RF',\n",
       "       'SMB', 'HML', 'RMW', 'CMA', 'RF', 'ADS_Index', 'SP500', 'AMERIBOR',\n",
       "       'T10YIE', 'T5YIE', 'BAMLH0A0HYM2', 'BAMLH0A0HYM2EY', 'DGS10', 'DGS1',\n",
       "       'RIFSPPFAAD90NB', 'DCPN3M', 'DCPF1M', 'DCOILWTICO', 'DHHNGSP', 'USRECD',\n",
       "       'USRECDM', 'USRECDP', 'Yest_Close', 'stock_return'],\n",
       "      dtype='object')"
      ]
     },
     "execution_count": 25,
     "metadata": {},
     "output_type": "execute_result"
    }
   ],
   "source": [
    "data2.columns"
   ]
  },
  {
   "cell_type": "code",
   "execution_count": 30,
   "metadata": {
    "id": "GDvyNDohOE2R"
   },
   "outputs": [],
   "source": [
    "# Splitting the dataset into X and y\n",
    "X = data2.drop(columns=['Date', 'Open', 'High', 'Low', 'Close', 'Adj Close', 'Yest_Close','stock_return']).fillna(method='bfill')  # Dropping non-numeric columns\n",
    "X = sm.add_constant(X)\n",
    "y = data2['Adj Close']"
   ]
  },
  {
   "cell_type": "code",
   "execution_count": 31,
   "metadata": {
    "colab": {
     "base_uri": "https://localhost:8080/"
    },
    "id": "x496xkPcqAi5",
    "outputId": "dbeec5d5-026d-4cca-b4e6-a256d6fedbae"
   },
   "outputs": [
    {
     "data": {
      "text/plain": [
       "const             False\n",
       "Volume            False\n",
       "Mkt-RF            False\n",
       "SMB               False\n",
       "HML               False\n",
       "RMW               False\n",
       "CMA               False\n",
       "RF                False\n",
       "ADS_Index         False\n",
       "SP500             False\n",
       "AMERIBOR          False\n",
       "T10YIE            False\n",
       "T5YIE             False\n",
       "BAMLH0A0HYM2      False\n",
       "BAMLH0A0HYM2EY    False\n",
       "DGS10             False\n",
       "DGS1              False\n",
       "RIFSPPFAAD90NB    False\n",
       "DCPN3M            False\n",
       "DCPF1M             True\n",
       "DCOILWTICO        False\n",
       "DHHNGSP           False\n",
       "USRECD             True\n",
       "USRECDM            True\n",
       "USRECDP            True\n",
       "dtype: bool"
      ]
     },
     "execution_count": 31,
     "metadata": {},
     "output_type": "execute_result"
    }
   ],
   "source": [
    "# Check for null values in each column\n",
    "null_columns = np.isnan(X).any(axis=0)\n",
    "null_columns"
   ]
  },
  {
   "cell_type": "code",
   "execution_count": 32,
   "metadata": {
    "id": "5V6J3a1Wqg5p"
   },
   "outputs": [],
   "source": [
    "imputer = SimpleImputer(strategy='median')\n",
    "X = imputer.fit_transform(X)"
   ]
  },
  {
   "cell_type": "code",
   "execution_count": 33,
   "metadata": {
    "colab": {
     "base_uri": "https://localhost:8080/"
    },
    "id": "c9aB4OJin_fj",
    "outputId": "656ea108-72f2-4884-8841-f4ea188284de"
   },
   "outputs": [
    {
     "name": "stdout",
     "output_type": "stream",
     "text": [
      "Shape of X: (712, 22)\n",
      "Shape of y: (712,)\n"
     ]
    }
   ],
   "source": [
    "print('Shape of X:', X.shape)\n",
    "print('Shape of y:', y.shape)"
   ]
  },
  {
   "cell_type": "code",
   "execution_count": 34,
   "metadata": {
    "colab": {
     "base_uri": "https://localhost:8080/"
    },
    "id": "NMnqxruHqpa0",
    "outputId": "9c08dcb6-9c22-447d-fb36-e605c3f2534b"
   },
   "outputs": [
    {
     "data": {
      "text/plain": [
       "array([False, False, False, False, False, False, False, False, False,\n",
       "       False, False, False, False, False, False, False, False, False,\n",
       "       False, False, False, False])"
      ]
     },
     "execution_count": 34,
     "metadata": {},
     "output_type": "execute_result"
    }
   ],
   "source": [
    "# Check for null values in each column\n",
    "null_columns = np.isnan(X).any(axis=0)\n",
    "null_columns"
   ]
  },
  {
   "cell_type": "code",
   "execution_count": 35,
   "metadata": {
    "id": "zHJ5iSFTOQe3"
   },
   "outputs": [],
   "source": [
    "# Splitting the dataset\n",
    "X_train, X_test, y_train, y_test = train_test_split(X, y, test_size=0.2, random_state=0)"
   ]
  },
  {
   "cell_type": "code",
   "execution_count": 37,
   "metadata": {
    "colab": {
     "base_uri": "https://localhost:8080/"
    },
    "id": "F70pQ-97RFjJ",
    "outputId": "158ce3d0-a331-480c-bace-fe6f15c664a0"
   },
   "outputs": [
    {
     "name": "stdout",
     "output_type": "stream",
     "text": [
      "                                 OLS Regression Results                                \n",
      "=======================================================================================\n",
      "Dep. Variable:              Adj Close   R-squared (uncentered):                   0.668\n",
      "Model:                            OLS   Adj. R-squared (uncentered):              0.664\n",
      "Method:                 Least Squares   F-statistic:                              141.5\n",
      "Date:                Thu, 14 Dec 2023   Prob (F-statistic):                   6.61e-161\n",
      "Time:                        21:16:26   Log-Likelihood:                         -616.75\n",
      "No. Observations:                 712   AIC:                                      1253.\n",
      "Df Residuals:                     702   BIC:                                      1299.\n",
      "Df Model:                          10                                                  \n",
      "Covariance Type:            nonrobust                                                  \n",
      "==============================================================================\n",
      "                 coef    std err          t      P>|t|      [0.025      0.975]\n",
      "------------------------------------------------------------------------------\n",
      "x1             0.0593      0.026      2.326      0.020       0.009       0.109\n",
      "x2            -0.0404      0.026     -1.548      0.122      -0.092       0.011\n",
      "x3             0.0682      0.028      2.412      0.016       0.013       0.124\n",
      "x4             0.7493      0.026     28.693      0.000       0.698       0.801\n",
      "x5             0.6898      0.085      8.117      0.000       0.523       0.857\n",
      "x6            -0.7713      0.098     -7.854      0.000      -0.964      -0.578\n",
      "x7            -0.3228      0.131     -2.464      0.014      -0.580      -0.066\n",
      "x8             0.2793      0.125      2.236      0.026       0.034       0.525\n",
      "x9            -0.3555      0.047     -7.625      0.000      -0.447      -0.264\n",
      "x10            0.1877      0.031      6.073      0.000       0.127       0.248\n",
      "==============================================================================\n",
      "Omnibus:                       15.520   Durbin-Watson:                   0.129\n",
      "Prob(Omnibus):                  0.000   Jarque-Bera (JB):               13.473\n",
      "Skew:                           0.271   Prob(JB):                      0.00119\n",
      "Kurtosis:                       2.600   Cond. No.                         15.0\n",
      "==============================================================================\n",
      "\n",
      "Notes:\n",
      "[1] R² is computed without centering (uncentered) since the model does not contain a constant.\n",
      "[2] Standard Errors assume that the covariance matrix of the errors is correctly specified.\n",
      "\n",
      "Benchmark: corr(Y, Y_pred) = 0.8187481761908696\n",
      "Hard Thresholding selected 10 features in the benchmark model.\n",
      "Selected features in the benchmark model: ['Low', 'Close', 'Adj Close', 'HML', 'CMA', 'RF', 'T10YIE', 'T5YIE', 'DGS10', 'DGS1']\n"
     ]
    }
   ],
   "source": [
    "# ------------------------------------------------------------------------------\n",
    "# Benchmark Model\n",
    "# ------------------------------------------------------------------------------\n",
    "\n",
    "benchmark_prep = sm.OLS(y, X).fit()\n",
    "benchmark_prep.summary()\n",
    "\n",
    "# Create a boolean mask with the same number of columns as X\n",
    "boolean_mask_benchmark = np.abs(benchmark_prep.tvalues) >= 1.96\n",
    "\n",
    "# Select columns from X based on the boolean mask\n",
    "x_benchmark = X[:, boolean_mask_benchmark]\n",
    "\n",
    "# Get the column names from the original DataFrame (data2)\n",
    "column_names = data2.columns\n",
    "\n",
    "# Extract selected features based on the benchmark model mask\n",
    "selected_features_benchmark = [column_names[i] for i, mask in enumerate(boolean_mask_benchmark) if mask]\n",
    "\n",
    "# Continue with the rest of your code\n",
    "benchmark = sm.OLS(y, x_benchmark).fit()\n",
    "print(benchmark.summary())\n",
    "y_hat_benchmark1 = benchmark.predict(x_benchmark)\n",
    "corr_benchmark1 = ss.pearsonr(y_hat_benchmark1, y)[0]\n",
    "print('\\nBenchmark: corr(Y, Y_pred) = ' + str(corr_benchmark1))\n",
    "print('Hard Thresholding selected ' + str(np.sum(boolean_mask_benchmark)) + ' features in the benchmark model.')\n",
    "print('Selected features in the benchmark model:', selected_features_benchmark)"
   ]
  },
  {
   "cell_type": "code",
   "execution_count": 38,
   "metadata": {
    "colab": {
     "base_uri": "https://localhost:8080/"
    },
    "id": "XSkrhQ1csK2a",
    "outputId": "f4910cc5-e62b-4a87-a9d2-c44044a1dc71"
   },
   "outputs": [
    {
     "name": "stdout",
     "output_type": "stream",
     "text": [
      "                            OLS Regression Results                            \n",
      "==============================================================================\n",
      "Dep. Variable:              Adj Close   R-squared:                       0.683\n",
      "Model:                            OLS   Adj. R-squared:                  0.674\n",
      "Method:                 Least Squares   F-statistic:                     70.95\n",
      "Date:                Thu, 14 Dec 2023   Prob (F-statistic):          1.57e-156\n",
      "Time:                        21:16:32   Log-Likelihood:                -600.26\n",
      "No. Observations:                 712   AIC:                             1245.\n",
      "Df Residuals:                     690   BIC:                             1345.\n",
      "Df Model:                          21                                         \n",
      "Covariance Type:            nonrobust                                         \n",
      "==============================================================================\n",
      "                 coef    std err          t      P>|t|      [0.025      0.975]\n",
      "------------------------------------------------------------------------------\n",
      "const         -0.1916      0.118     -1.624      0.105      -0.423       0.040\n",
      "x1            -0.0219      0.022     -0.986      0.324      -0.066       0.022\n",
      "x2            -0.0337      0.026     -1.307      0.192      -0.084       0.017\n",
      "x3             0.0709      0.026      2.737      0.006       0.020       0.122\n",
      "x4            -0.0740      0.036     -2.070      0.039      -0.144      -0.004\n",
      "x5             0.0604      0.028      2.136      0.033       0.005       0.116\n",
      "x6             0.0369      0.035      1.064      0.288      -0.031       0.105\n",
      "x7             0.4185      0.246      1.704      0.089      -0.064       0.901\n",
      "x8            -0.0308      0.025     -1.218      0.224      -0.080       0.019\n",
      "x9             0.7717      0.049     15.678      0.000       0.675       0.868\n",
      "x10           -0.4666      0.355     -1.313      0.190      -1.164       0.231\n",
      "x11            0.7205      0.105      6.872      0.000       0.515       0.926\n",
      "x12           -0.7374      0.119     -6.176      0.000      -0.972      -0.503\n",
      "x13           -0.1549      0.302     -0.513      0.608      -0.748       0.438\n",
      "x14            0.9632      0.811      1.187      0.236      -0.630       2.556\n",
      "x15           -0.3346      0.366     -0.915      0.360      -1.052       0.383\n",
      "x16           -1.8519      0.521     -3.551      0.000      -2.876      -0.828\n",
      "x17            1.5880      0.486      3.268      0.001       0.634       2.542\n",
      "x18           -0.1828      0.327     -0.559      0.576      -0.825       0.459\n",
      "x19           -0.0347      0.263     -0.132      0.895      -0.552       0.482\n",
      "x20           -0.3871      0.053     -7.323      0.000      -0.491      -0.283\n",
      "x21            0.2042      0.035      5.795      0.000       0.135       0.273\n",
      "==============================================================================\n",
      "Omnibus:                        6.448   Durbin-Watson:                   0.178\n",
      "Prob(Omnibus):                  0.040   Jarque-Bera (JB):                5.011\n",
      "Skew:                           0.098   Prob(JB):                       0.0816\n",
      "Kurtosis:                       2.639   Cond. No.                         147.\n",
      "==============================================================================\n",
      "\n",
      "Notes:\n",
      "[1] Standard Errors assume that the covariance matrix of the errors is correctly specified.\n",
      "model 2 Ridge Regression: corr (Y, Y_pred) = 0.8267226244257451\n",
      "Ridge Regression selected 22 features:  ['Date', 'Open', 'High', 'Low', 'Close', 'Adj Close', 'Volume', 'Mkt-RF', 'SMB', 'HML', 'RMW', 'CMA', 'RF', 'ADS_Index', 'SP500', 'AMERIBOR', 'T10YIE', 'T5YIE', 'BAMLH0A0HYM2', 'BAMLH0A0HYM2EY', 'DGS10', 'DGS1']\n"
     ]
    }
   ],
   "source": [
    "# ------------------------------------------------------------------------------\n",
    "# Factor Selection using Ridge Regression\n",
    "# ------------------------------------------------------------------------------\n",
    "# Motivation: the model sets the objective function to be the\n",
    "# sum of squared residuals from OLS + penalty function\n",
    "# that penalizes squared values of beta. A minimization process squeezes\n",
    "# the small beta values close to 0.\n",
    "# a represents the obj function's sensitivity to the penalty term\n",
    "# Steo 1. run Ridge Regression and obtain coefficients\n",
    "# Step 2. remove features with coefficients close to 0 and run OLS\n",
    "a = 0.5\n",
    "model2_prep = Ridge(alpha=a, fit_intercept=False).fit(X, y)\n",
    "\n",
    "# Create a boolean mask for selecting columns based on the coefficients\n",
    "boolean_mask = np.abs(model2_prep.coef_) >= 0.001\n",
    "\n",
    "# Get the column names from the original DataFrame (data2)\n",
    "column_names = data2.columns\n",
    "\n",
    "# Select columns from X based on the boolean mask\n",
    "x = X[:, boolean_mask]\n",
    "\n",
    "# Continue with the rest of your code\n",
    "model2 = sm.OLS(y, x).fit()\n",
    "print(model2.summary())\n",
    "y_pred_model2 = model2.predict(x)\n",
    "corr_model2 = ss.pearsonr(y_pred_model2, y)[0]\n",
    "\n",
    "# Print the selected features using the column_names list\n",
    "selected_features = [column_names[i] for i, mask in enumerate(boolean_mask) if mask]\n",
    "print('model 2 Ridge Regression: corr (Y, Y_pred) = ' + str(corr_model2))\n",
    "print('Ridge Regression selected ' + str(len(selected_features)) + ' features: ', selected_features)"
   ]
  },
  {
   "cell_type": "code",
   "execution_count": 39,
   "metadata": {
    "colab": {
     "base_uri": "https://localhost:8080/"
    },
    "id": "fYM4NmfgUX4I",
    "outputId": "b447ad5b-a685-4a82-c15c-cb5e5fa8c4b8"
   },
   "outputs": [
    {
     "data": {
      "text/plain": [
       "['Date',\n",
       " 'Open',\n",
       " 'High',\n",
       " 'Low',\n",
       " 'Close',\n",
       " 'Adj Close',\n",
       " 'Volume',\n",
       " 'Mkt-RF',\n",
       " 'SMB',\n",
       " 'HML',\n",
       " 'RMW',\n",
       " 'CMA',\n",
       " 'RF',\n",
       " 'ADS_Index',\n",
       " 'SP500',\n",
       " 'AMERIBOR',\n",
       " 'T10YIE',\n",
       " 'T5YIE',\n",
       " 'BAMLH0A0HYM2',\n",
       " 'BAMLH0A0HYM2EY',\n",
       " 'DGS10',\n",
       " 'DGS1']"
      ]
     },
     "execution_count": 39,
     "metadata": {},
     "output_type": "execute_result"
    }
   ],
   "source": [
    "selected_features"
   ]
  },
  {
   "cell_type": "code",
   "execution_count": 40,
   "metadata": {
    "colab": {
     "base_uri": "https://localhost:8080/"
    },
    "id": "FyL9Z8dHCOUE",
    "outputId": "0adb0ceb-e03b-4a8d-acba-019c31ce9df7"
   },
   "outputs": [
    {
     "name": "stdout",
     "output_type": "stream",
     "text": [
      "      Feature Name  Coefficient\n",
      "17           T5YIE     0.990767\n",
      "9              HML     0.795574\n",
      "11             CMA     0.702859\n",
      "7           Mkt-RF     0.380705\n",
      "21            DGS1     0.202088\n",
      "13       ADS_Index     0.142813\n",
      "14           SP500     0.127977\n",
      "3              Low     0.069940\n",
      "5        Adj Close     0.061497\n",
      "6           Volume     0.038280\n",
      "19  BAMLH0A0HYM2EY     0.003376\n",
      "15        AMERIBOR    -0.015532\n",
      "1             Open    -0.020724\n",
      "8              SMB    -0.031896\n",
      "2             High    -0.032241\n",
      "4            Close    -0.074536\n",
      "0             Date    -0.097570\n",
      "18    BAMLH0A0HYM2    -0.190469\n",
      "10             RMW    -0.241512\n",
      "20           DGS10    -0.380549\n",
      "12              RF    -0.714458\n",
      "16          T10YIE    -1.164351\n"
     ]
    }
   ],
   "source": [
    "# Define the number of top features to keep\n",
    "k = 25  # Change this to the desired number of top features\n",
    "\n",
    "# Get the coefficients of the Ridge model (feature importance)\n",
    "coefficients = model2_prep.coef_\n",
    "\n",
    "# Create a DataFrame to associate coefficients with feature names\n",
    "feature_importance_df = pd.DataFrame({'Feature Name': selected_features, 'Coefficient': coefficients})\n",
    "\n",
    "# Sort the features by absolute coefficient value in descending order\n",
    "feature_importance_df = feature_importance_df.reindex(feature_importance_df['Coefficient'].sort_values(ascending=False).index)\n",
    "print(feature_importance_df)"
   ]
  },
  {
   "cell_type": "code",
   "execution_count": 41,
   "metadata": {
    "colab": {
     "base_uri": "https://localhost:8080/",
     "height": 683
    },
    "id": "s6rl87glATLD",
    "outputId": "4f956096-725c-4375-c1c8-decaf20540d5"
   },
   "outputs": [
    {
     "data": {
      "image/png": "[encoded data removed]",
      "text/plain": [
       "<Figure size 1000x600 with 1 Axes>"
      ]
     },
     "metadata": {},
     "output_type": "display_data"
    }
   ],
   "source": [
    "feature_importance_df.sort_values(by='Coefficient', ascending=False, inplace=True)\n",
    "\n",
    "# Plotting the feature importances\n",
    "plt.figure(figsize=(10, 6))\n",
    "plt.bar(feature_importance_df['Feature Name'], feature_importance_df['Coefficient'])\n",
    "plt.xticks(rotation=90)\n",
    "plt.xlabel('Features')\n",
    "plt.ylabel('Absolute Coefficient Value')\n",
    "plt.title('Feature Importance from Ridge Regression')\n",
    "plt.show()"
   ]
  },
  {
   "cell_type": "code",
   "execution_count": 42,
   "metadata": {
    "colab": {
     "base_uri": "https://localhost:8080/"
    },
    "id": "K5m246I5-rb7",
    "outputId": "d0e400b4-5452-4807-d37b-a781a7337722"
   },
   "outputs": [
    {
     "name": "stdout",
     "output_type": "stream",
     "text": [
      "17             T5YIE\n",
      "9                HML\n",
      "11               CMA\n",
      "7             Mkt-RF\n",
      "21              DGS1\n",
      "13         ADS_Index\n",
      "14             SP500\n",
      "3                Low\n",
      "5          Adj Close\n",
      "6             Volume\n",
      "19    BAMLH0A0HYM2EY\n",
      "15          AMERIBOR\n",
      "1               Open\n",
      "8                SMB\n",
      "2               High\n",
      "4              Close\n",
      "0               Date\n",
      "18      BAMLH0A0HYM2\n",
      "10               RMW\n",
      "20             DGS10\n",
      "12                RF\n",
      "16            T10YIE\n",
      "Name: Feature Name, dtype: object\n"
     ]
    }
   ],
   "source": [
    "# Select the top k features\n",
    "top_features = feature_importance_df['Feature Name'][:k]\n",
    "print(top_features)"
   ]
  },
  {
   "cell_type": "code",
   "execution_count": 43,
   "metadata": {
    "id": "b6xC__VIReia"
   },
   "outputs": [],
   "source": [
    "# Filter X_train and X_test to include only the top features\n",
    "X_selected = X[:, [selected_features.index(feature) for feature in top_features]]\n",
    "X_train_selected = X_train[:, [selected_features.index(feature) for feature in top_features]]\n",
    "X_test_selected = X_test[:, [selected_features.index(feature) for feature in top_features]]"
   ]
  },
  {
   "cell_type": "code",
   "execution_count": 44,
   "metadata": {
    "colab": {
     "base_uri": "https://localhost:8080/"
    },
    "id": "9kP8oZRqzj1W",
    "outputId": "f092c561-56ea-4c43-fad6-ef98a0d86294"
   },
   "outputs": [
    {
     "name": "stdout",
     "output_type": "stream",
     "text": [
      "Best alpha value: 3.2550885998350565\n"
     ]
    }
   ],
   "source": [
    "#####################################################\n",
    "# Hyperparameter Tuning\n",
    "#####################################################\n",
    "\n",
    "# Define a range of alpha values to test\n",
    "alphas = np.logspace(-6, 6, 200)\n",
    "\n",
    "# Replace Ridge with RidgeCV\n",
    "model2_prep = RidgeCV(alphas=alphas, fit_intercept=False, store_cv_values=True).fit(X_train_selected, y_train)\n",
    "\n",
    "# Print the best alpha value\n",
    "print(\"Best alpha value:\", model2_prep.alpha_)\n",
    "\n",
    "# Optionally, retrain Ridge model using the best alpha value\n",
    "model2 = Ridge(alpha=model2_prep.alpha_, fit_intercept=False).fit(X_train_selected, y_train)"
   ]
  },
  {
   "cell_type": "code",
   "execution_count": 45,
   "metadata": {
    "colab": {
     "base_uri": "https://localhost:8080/"
    },
    "id": "hrAnediW1uJi",
    "outputId": "610bdbb1-a195-400a-f909-75b736462517"
   },
   "outputs": [
    {
     "data": {
      "text/plain": [
       "array([-0.60202318,  0.76922242,  1.21006293,  1.28810813, -0.65860378,\n",
       "       -0.46622613, -1.70228337, -1.09747837, -1.72485792,  0.26778894,\n",
       "        1.54946275,  1.59909188, -0.15407403, -1.6724551 ,  0.26275011,\n",
       "       -0.58817355,  0.77002253, -0.6370335 , -0.77261754,  0.86566173,\n",
       "        0.27474819,  0.3792465 , -0.60024864, -1.07466507,  0.91525643,\n",
       "       -1.03396843, -0.19618491, -0.8620226 , -0.20579906, -0.1586373 ,\n",
       "       -1.24609007, -0.7596488 , -0.5172224 , -0.83174841, -0.73278449,\n",
       "        0.85796831, -0.72221795,  0.29609203, -1.75385716,  0.84338509,\n",
       "        0.64469788,  1.43346184, -0.35075076,  0.31358657,  0.29362077,\n",
       "        0.15430375,  0.00323788, -0.55432708, -0.63148779, -0.18876985,\n",
       "       -0.42567645,  0.22457354,  0.79121396,  0.97966322,  0.76744568,\n",
       "       -0.15117508, -0.08974203, -0.82647177, -1.30423372, -0.18469255,\n",
       "       -0.58391597, -0.84538771, -0.42467985,  0.06637033, -1.09177267,\n",
       "        0.09892229, -0.46516821, -0.21273736,  1.08460533,  0.24172541,\n",
       "        1.18042619, -1.59329757, -0.52885143, -0.02090672,  0.94214631,\n",
       "        1.30329624,  0.31021929, -0.72582088, -0.39936212, -0.43531294,\n",
       "        1.49484803, -0.18825747, -0.05333756, -0.33829087, -0.6470129 ,\n",
       "       -0.0808014 , -0.27629086,  0.16273498,  0.84211977, -0.96762466,\n",
       "        0.30902941, -0.97227459, -0.03893732,  0.09740014,  0.72156495,\n",
       "        1.60092944, -0.50033134, -1.28831001,  1.37102862,  1.27040243,\n",
       "        0.18752445, -0.85190822,  1.22452874, -0.83067206, -0.65453954,\n",
       "       -0.85737917, -0.79785907,  0.40059513,  1.03131389, -0.84144538,\n",
       "       -1.12156447, -0.39484238, -0.77364188,  0.4599572 , -0.02559904,\n",
       "       -0.5936191 , -0.92474652,  0.46535236,  0.2548346 , -0.23582581,\n",
       "       -0.32702882, -0.4854375 , -0.67109265,  0.84427536,  1.04699208,\n",
       "        0.71129338,  1.54502562, -0.8803866 , -0.41035395, -0.81957517,\n",
       "       -1.109562  , -0.28941679,  1.12090086,  0.86103438,  1.50789569,\n",
       "        1.12262983,  0.88276767,  0.75402127,  0.71826936, -0.39097353,\n",
       "        0.22271931, -1.71779029, -0.01892764])"
      ]
     },
     "execution_count": 45,
     "metadata": {},
     "output_type": "execute_result"
    }
   ],
   "source": [
    "y_hat = model2.predict(X_test_selected)\n",
    "y_hat"
   ]
  },
  {
   "cell_type": "code",
   "execution_count": 46,
   "metadata": {
    "colab": {
     "base_uri": "https://localhost:8080/"
    },
    "id": "uJBu7p3s2M74",
    "outputId": "66bd91c5-fd88-4973-db35-43cec7207eb0"
   },
   "outputs": [
    {
     "name": "stdout",
     "output_type": "stream",
     "text": [
      "Mean Cross-Validation Score: -0.9758069052087238\n",
      "MEAN of Mean Squared Error: 0.9758069052087238\n",
      "STD of RMSE Squared Error: 0.28907206707941613\n",
      "Root Mean Squared Error on Test Set: 0.9445868119146896\n"
     ]
    }
   ],
   "source": [
    "###############################################################################\n",
    "# Cross Validation:\n",
    "###############################################################################\n",
    "\n",
    "# Perform cross-validation\n",
    "cv_scores = cross_val_score(model2, X, y, cv=5, scoring='neg_mean_squared_error')\n",
    "\n",
    "# Calculate the mean score\n",
    "mean_cv_score = np.mean(cv_scores)\n",
    "\n",
    "# Print the results\n",
    "print(\"Mean Cross-Validation Score:\", mean_cv_score)\n",
    "\n",
    "# Evaluate Model:\n",
    "# Calculate the mean squared error and convert it back to positive\n",
    "mse_scores = -cv_scores\n",
    "mean_mse = np.mean(mse_scores)\n",
    "std_mse = np.std(mse_scores)\n",
    "\n",
    "rmse = np.mean(np.sqrt(np.abs(cv_scores)))\n",
    "std_rmse = np.std(np.sqrt(np.abs(cv_scores)))\n",
    "print(f'MEAN of Mean Squared Error: {mean_mse}')\n",
    "print(f'STD of RMSE Squared Error: {std_rmse}')\n",
    "print(f'Root Mean Squared Error on Test Set: {rmse}')"
   ]
  },
  {
   "cell_type": "markdown",
   "metadata": {
    "id": "KJp49Ezo4ldb"
   },
   "source": [
    "**There is no overfitting in the Ridge Model.**"
   ]
  },
  {
   "cell_type": "code",
   "execution_count": 47,
   "metadata": {
    "colab": {
     "base_uri": "https://localhost:8080/"
    },
    "id": "54O_m2lV4Vuo",
    "outputId": "d2430d78-6c28-49c0-f6b9-ffa481ffd2c8"
   },
   "outputs": [
    {
     "data": {
      "text/plain": [
       "0.5891040722044093"
      ]
     },
     "execution_count": 47,
     "metadata": {},
     "output_type": "execute_result"
    }
   ],
   "source": [
    "## Model Evaluation\n",
    "\n",
    "rmse = mean_squared_error(y_test, y_hat, squared=False)\n",
    "rmse"
   ]
  },
  {
   "cell_type": "markdown",
   "metadata": {
    "id": "r1jlzTRV4_6Z"
   },
   "source": [
    "## Trading Signals"
   ]
  },
  {
   "cell_type": "code",
   "execution_count": 48,
   "metadata": {
    "id": "Sq3_-yV35B8Z"
   },
   "outputs": [],
   "source": [
    "# Creating input data for month of October 2023\n",
    "X_updated = X_selected[-22:]\n",
    "y_updated = y[-22:]"
   ]
  },
  {
   "cell_type": "code",
   "execution_count": 49,
   "metadata": {
    "id": "irs8QcwQ5Hkq"
   },
   "outputs": [],
   "source": [
    "# Predicting using XGBoost\n",
    "y_pred = model2.predict(X_updated)\n",
    "#y_pred"
   ]
  },
  {
   "cell_type": "code",
   "execution_count": 50,
   "metadata": {
    "id": "Vjdzqs1O5thb"
   },
   "outputs": [],
   "source": [
    "def TRADING_RULE(P_hat, P, options):\n",
    "    if options == 'BUY HOLD':\n",
    "        return TRADING_RULE_1(P)\n",
    "    elif options == 'LONG SHORT':\n",
    "        return TRADING_RULE_2(P_hat, P)\n",
    "    elif options == 'DAY TRADE':\n",
    "        return TRADING_RULE_3(P_hat, P)\n",
    "\n",
    "def TRADING_RULE_1(P):\n",
    "    T = P.shape[0]\n",
    "    signal = np.zeros(T)\n",
    "    signal[0] = 1\n",
    "    signal[-1] = -1\n",
    "    return signal\n",
    "\n",
    "def TRADING_RULE_2(P_hat, P):\n",
    "    T = P.shape[0]\n",
    "    signal = np.zeros(T)\n",
    "    for t in range(1, T):\n",
    "        if (P_hat[t-1] > P[t-1]) + (P_hat[t] < P[t]) == 2:  # FORCAST > OPEN: LONG\n",
    "            signal[t] = 1\n",
    "        elif (P_hat[t-1] < P[t-1]) + (P_hat[t] > P[t]) == 2:  # FORECAST < OPEN: SHORT\n",
    "            signal[t] = -1\n",
    "    return signal\n",
    "\n",
    "def TRADING_RULE_3(P_hat, P):\n",
    "    T = P.shape[0]\n",
    "    signal = np.zeros(T)\n",
    "    for t in range(1, T):\n",
    "        if P_hat[t] > P[t]:  # FORCAST > OPEN: LONG\n",
    "            signal[t] = 1\n",
    "        elif P_hat[t] < P[t]:  # FORECAST < OPEN: SHORT\n",
    "            signal[t] = -1\n",
    "    return signal"
   ]
  },
  {
   "cell_type": "code",
   "execution_count": 51,
   "metadata": {
    "colab": {
     "base_uri": "https://localhost:8080/"
    },
    "id": "9ST9sCjp5wMe",
    "outputId": "3dcd0a52-1e43-4497-f533-5a1ce777aa06"
   },
   "outputs": [
    {
     "name": "stdout",
     "output_type": "stream",
     "text": [
      "Trading Signal: [ 0. -1.  1.  1.  1.  1.  1.  1.  1. -1. -1. -1. -1. -1. -1. -1. -1. -1.\n",
      " -1. -1. -1. -1.]\n",
      "Asset Prices: [0.73925228 0.41176706 0.45146249 0.23178514 0.38650659 0.50875008\n",
      " 0.51754582 0.52498837 0.53807013 0.62264799 1.50113027 1.41767984\n",
      " 1.25235794 1.03989875 1.03155384 1.18131268 1.20183699 1.05140156\n",
      " 0.86916408 0.82856699 0.93975851 0.97877734]\n",
      "Profit and Loss: [10000.          9999.58823294 10000.49115792 10000.49115792\n",
      " 10000.49115792 10000.49115792 10000.49115792 10000.49115792\n",
      " 10000.49115792  9999.24586194  9999.24586194  9999.24586194\n",
      "  9999.24586194  9999.24586194  9999.24586194  9999.24586194\n",
      "  9999.24586194  9999.24586194  9999.24586194  9999.24586194\n",
      "  9999.24586194  9999.24586194]\n"
     ]
    }
   ],
   "source": [
    "def calculate_profit_loss(signal, price):\n",
    "    T = len(signal)\n",
    "    position = np.zeros(T)\n",
    "    balance = np.zeros(T)\n",
    "    position[1:] = np.diff(signal)  # Buy (1) or Sell (-1) at each signal change\n",
    "    balance[0] = 10000  # Initial balance\n",
    "    for t in range(1, T):\n",
    "        balance[t] = balance[t - 1] + position[t] * price[t]\n",
    "    return balance\n",
    "\n",
    "# Example usage:\n",
    "# Assume 'price' is a numpy array or list containing the asset prices over time\n",
    "# and 'signal' is the trading signal generated by TRADING_RULE function.\n",
    "\n",
    "# Example price data\n",
    "price = y_updated.values\n",
    "\n",
    "# Example trading signal\n",
    "signal = TRADING_RULE(y_pred, y_updated.values, 'DAY TRADE')\n",
    "\n",
    "# Calculate profit and loss\n",
    "profit_loss = calculate_profit_loss(signal, price)\n",
    "\n",
    "# Display the results\n",
    "print(\"Trading Signal:\", signal)\n",
    "print(\"Asset Prices:\", price)\n",
    "print(\"Profit and Loss:\", profit_loss)"
   ]
  },
  {
   "cell_type": "code",
   "execution_count": 52,
   "metadata": {
    "colab": {
     "base_uri": "https://localhost:8080/",
     "height": 410
    },
    "id": "qIhGaIkf59sy",
    "outputId": "f55b3c03-4be0-4749-8d57-58f5a0795781"
   },
   "outputs": [
    {
     "data": {
      "image/png": "[encoded data removed]",
      "text/plain": [
       "<Figure size 1000x400 with 1 Axes>"
      ]
     },
     "metadata": {},
     "output_type": "display_data"
    }
   ],
   "source": [
    "trading_signals = signal\n",
    "\n",
    "time_points = np.arange(len(trading_signals))\n",
    "\n",
    "# Plot the trading signals\n",
    "plt.figure(figsize=(10, 4))\n",
    "plt.stem(time_points, trading_signals, basefmt=\" \", markerfmt=\"o\", linefmt=\"-\")\n",
    "plt.title('Trading Signals')\n",
    "plt.xlabel('Time Points')\n",
    "plt.ylabel('Signal')\n",
    "plt.show()"
   ]
  },
  {
   "cell_type": "code",
   "execution_count": 53,
   "metadata": {
    "colab": {
     "base_uri": "https://localhost:8080/"
    },
    "id": "Z7vUcHsu6CHl",
    "outputId": "6a641f0d-63cc-424d-c3b8-568c743191e2"
   },
   "outputs": [
    {
     "name": "stdout",
     "output_type": "stream",
     "text": [
      "Total Profit: $-1.0\n"
     ]
    }
   ],
   "source": [
    "Total_Profit = profit_loss[-1] - profit_loss[0]\n",
    "print('Total Profit: $'+ str(np.round(Total_Profit)))"
   ]
  },
  {
   "cell_type": "code",
   "execution_count": null,
   "metadata": {},
   "outputs": [],
   "source": []
  }
 ],
 "metadata": {
  "colab": {
   "provenance": []
  },
  "kernelspec": {
   "display_name": "Python 3 (ipykernel)",
   "language": "python",
   "name": "python3"
  },
  "language_info": {
   "codemirror_mode": {
    "name": "ipython",
    "version": 3
   },
   "file_extension": ".py",
   "mimetype": "text/x-python",
   "name": "python",
   "nbconvert_exporter": "python",
   "pygments_lexer": "ipython3",
   "version": "3.9.13"
  }
 },
 "nbformat": 4,
 "nbformat_minor": 1
}
