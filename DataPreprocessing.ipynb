{
 "cells": [
  {
   "cell_type": "code",
   "execution_count": 1,
   "id": "47bf43ee",
   "metadata": {},
   "outputs": [],
   "source": [
    "import warnings\n",
    "warnings.filterwarnings(\"ignore\")\n",
    "import yfinance as yf\n",
    "import seaborn as sns\n",
    "import pandas as pd\n",
    "from functools import reduce\n",
    "#pip install getFamaFrenchFactors\n",
    "import getFamaFrenchFactors as gff\n",
    "#pip install fredapi\n",
    "from fredapi import Fred\n",
    "import matplotlib.pyplot as plt\n",
    "from datetime import datetime\n",
    "import statsmodels.api as sm"
   ]
  },
  {
   "cell_type": "markdown",
   "id": "a634a18c",
   "metadata": {},
   "source": [
    "### Fama French"
   ]
  },
  {
   "cell_type": "code",
   "execution_count": 2,
   "id": "13b236f2",
   "metadata": {},
   "outputs": [],
   "source": [
    "data_ff5 = pd.read_csv('F-F_Research_Data_5_Factors_2x3_daily.csv', skiprows=3)"
   ]
  },
  {
   "cell_type": "code",
   "execution_count": 3,
   "id": "952c76e3",
   "metadata": {},
   "outputs": [],
   "source": [
    "data_ff5.rename(columns = {'Unnamed: 0':'Date'},inplace=True)"
   ]
  },
  {
   "cell_type": "code",
   "execution_count": 4,
   "id": "397f5f22",
   "metadata": {},
   "outputs": [],
   "source": [
    "data_ff5['Date']=data_ff5['Date'].apply(str)\n"
   ]
  },
  {
   "cell_type": "code",
   "execution_count": 5,
   "id": "b2608941",
   "metadata": {},
   "outputs": [
    {
     "data": {
      "text/html": [
       "<div>\n",
       "<style scoped>\n",
       "    .dataframe tbody tr th:only-of-type {\n",
       "        vertical-align: middle;\n",
       "    }\n",
       "\n",
       "    .dataframe tbody tr th {\n",
       "        vertical-align: top;\n",
       "    }\n",
       "\n",
       "    .dataframe thead th {\n",
       "        text-align: right;\n",
       "    }\n",
       "</style>\n",
       "<table border=\"1\" class=\"dataframe\">\n",
       "  <thead>\n",
       "    <tr style=\"text-align: right;\">\n",
       "      <th></th>\n",
       "      <th>Date</th>\n",
       "      <th>Mkt-RF</th>\n",
       "      <th>SMB</th>\n",
       "      <th>HML</th>\n",
       "      <th>RMW</th>\n",
       "      <th>CMA</th>\n",
       "      <th>RF</th>\n",
       "    </tr>\n",
       "  </thead>\n",
       "  <tbody>\n",
       "    <tr>\n",
       "      <th>0</th>\n",
       "      <td>19630701</td>\n",
       "      <td>-0.67</td>\n",
       "      <td>0.02</td>\n",
       "      <td>-0.35</td>\n",
       "      <td>0.03</td>\n",
       "      <td>0.13</td>\n",
       "      <td>0.012</td>\n",
       "    </tr>\n",
       "    <tr>\n",
       "      <th>1</th>\n",
       "      <td>19630702</td>\n",
       "      <td>0.79</td>\n",
       "      <td>-0.28</td>\n",
       "      <td>0.28</td>\n",
       "      <td>-0.08</td>\n",
       "      <td>-0.21</td>\n",
       "      <td>0.012</td>\n",
       "    </tr>\n",
       "    <tr>\n",
       "      <th>2</th>\n",
       "      <td>19630703</td>\n",
       "      <td>0.63</td>\n",
       "      <td>-0.18</td>\n",
       "      <td>-0.10</td>\n",
       "      <td>0.13</td>\n",
       "      <td>-0.25</td>\n",
       "      <td>0.012</td>\n",
       "    </tr>\n",
       "    <tr>\n",
       "      <th>3</th>\n",
       "      <td>19630705</td>\n",
       "      <td>0.40</td>\n",
       "      <td>0.09</td>\n",
       "      <td>-0.28</td>\n",
       "      <td>0.07</td>\n",
       "      <td>-0.30</td>\n",
       "      <td>0.012</td>\n",
       "    </tr>\n",
       "    <tr>\n",
       "      <th>4</th>\n",
       "      <td>19630708</td>\n",
       "      <td>-0.63</td>\n",
       "      <td>0.07</td>\n",
       "      <td>-0.20</td>\n",
       "      <td>-0.27</td>\n",
       "      <td>0.06</td>\n",
       "      <td>0.012</td>\n",
       "    </tr>\n",
       "  </tbody>\n",
       "</table>\n",
       "</div>"
      ],
      "text/plain": [
       "       Date  Mkt-RF   SMB   HML   RMW   CMA     RF\n",
       "0  19630701   -0.67  0.02 -0.35  0.03  0.13  0.012\n",
       "1  19630702    0.79 -0.28  0.28 -0.08 -0.21  0.012\n",
       "2  19630703    0.63 -0.18 -0.10  0.13 -0.25  0.012\n",
       "3  19630705    0.40  0.09 -0.28  0.07 -0.30  0.012\n",
       "4  19630708   -0.63  0.07 -0.20 -0.27  0.06  0.012"
      ]
     },
     "execution_count": 5,
     "metadata": {},
     "output_type": "execute_result"
    }
   ],
   "source": [
    "data_ff5.head()"
   ]
  },
  {
   "cell_type": "code",
   "execution_count": 6,
   "id": "270fb3a1",
   "metadata": {},
   "outputs": [
    {
     "data": {
      "text/html": [
       "<div>\n",
       "<style scoped>\n",
       "    .dataframe tbody tr th:only-of-type {\n",
       "        vertical-align: middle;\n",
       "    }\n",
       "\n",
       "    .dataframe tbody tr th {\n",
       "        vertical-align: top;\n",
       "    }\n",
       "\n",
       "    .dataframe thead th {\n",
       "        text-align: right;\n",
       "    }\n",
       "</style>\n",
       "<table border=\"1\" class=\"dataframe\">\n",
       "  <thead>\n",
       "    <tr style=\"text-align: right;\">\n",
       "      <th></th>\n",
       "      <th>Date</th>\n",
       "      <th>Mkt-RF</th>\n",
       "      <th>SMB</th>\n",
       "      <th>HML</th>\n",
       "      <th>RMW</th>\n",
       "      <th>CMA</th>\n",
       "      <th>RF</th>\n",
       "    </tr>\n",
       "  </thead>\n",
       "  <tbody>\n",
       "    <tr>\n",
       "      <th>14223</th>\n",
       "      <td>2020-01-02</td>\n",
       "      <td>0.86</td>\n",
       "      <td>-0.97</td>\n",
       "      <td>-0.34</td>\n",
       "      <td>0.24</td>\n",
       "      <td>-0.22</td>\n",
       "      <td>0.006</td>\n",
       "    </tr>\n",
       "    <tr>\n",
       "      <th>14224</th>\n",
       "      <td>2020-01-03</td>\n",
       "      <td>-0.67</td>\n",
       "      <td>0.30</td>\n",
       "      <td>0.00</td>\n",
       "      <td>-0.14</td>\n",
       "      <td>-0.10</td>\n",
       "      <td>0.006</td>\n",
       "    </tr>\n",
       "    <tr>\n",
       "      <th>14225</th>\n",
       "      <td>2020-01-06</td>\n",
       "      <td>0.36</td>\n",
       "      <td>-0.20</td>\n",
       "      <td>-0.55</td>\n",
       "      <td>-0.17</td>\n",
       "      <td>-0.26</td>\n",
       "      <td>0.006</td>\n",
       "    </tr>\n",
       "    <tr>\n",
       "      <th>14226</th>\n",
       "      <td>2020-01-07</td>\n",
       "      <td>-0.19</td>\n",
       "      <td>-0.03</td>\n",
       "      <td>-0.25</td>\n",
       "      <td>-0.12</td>\n",
       "      <td>-0.25</td>\n",
       "      <td>0.006</td>\n",
       "    </tr>\n",
       "    <tr>\n",
       "      <th>14227</th>\n",
       "      <td>2020-01-08</td>\n",
       "      <td>0.47</td>\n",
       "      <td>-0.17</td>\n",
       "      <td>-0.64</td>\n",
       "      <td>-0.19</td>\n",
       "      <td>-0.17</td>\n",
       "      <td>0.006</td>\n",
       "    </tr>\n",
       "    <tr>\n",
       "      <th>...</th>\n",
       "      <td>...</td>\n",
       "      <td>...</td>\n",
       "      <td>...</td>\n",
       "      <td>...</td>\n",
       "      <td>...</td>\n",
       "      <td>...</td>\n",
       "      <td>...</td>\n",
       "    </tr>\n",
       "    <tr>\n",
       "      <th>15183</th>\n",
       "      <td>2023-10-25</td>\n",
       "      <td>-1.58</td>\n",
       "      <td>-0.02</td>\n",
       "      <td>0.84</td>\n",
       "      <td>1.50</td>\n",
       "      <td>0.20</td>\n",
       "      <td>0.021</td>\n",
       "    </tr>\n",
       "    <tr>\n",
       "      <th>15184</th>\n",
       "      <td>2023-10-26</td>\n",
       "      <td>-1.15</td>\n",
       "      <td>1.19</td>\n",
       "      <td>1.66</td>\n",
       "      <td>-0.76</td>\n",
       "      <td>0.48</td>\n",
       "      <td>0.021</td>\n",
       "    </tr>\n",
       "    <tr>\n",
       "      <th>15185</th>\n",
       "      <td>2023-10-27</td>\n",
       "      <td>-0.53</td>\n",
       "      <td>-0.58</td>\n",
       "      <td>-0.57</td>\n",
       "      <td>0.42</td>\n",
       "      <td>-0.96</td>\n",
       "      <td>0.021</td>\n",
       "    </tr>\n",
       "    <tr>\n",
       "      <th>15186</th>\n",
       "      <td>2023-10-30</td>\n",
       "      <td>1.15</td>\n",
       "      <td>-0.34</td>\n",
       "      <td>0.28</td>\n",
       "      <td>-0.14</td>\n",
       "      <td>0.17</td>\n",
       "      <td>0.021</td>\n",
       "    </tr>\n",
       "    <tr>\n",
       "      <th>15187</th>\n",
       "      <td>2023-10-31</td>\n",
       "      <td>0.63</td>\n",
       "      <td>0.06</td>\n",
       "      <td>-0.08</td>\n",
       "      <td>-0.83</td>\n",
       "      <td>0.06</td>\n",
       "      <td>0.021</td>\n",
       "    </tr>\n",
       "  </tbody>\n",
       "</table>\n",
       "<p>965 rows × 7 columns</p>\n",
       "</div>"
      ],
      "text/plain": [
       "            Date  Mkt-RF   SMB   HML   RMW   CMA     RF\n",
       "14223 2020-01-02    0.86 -0.97 -0.34  0.24 -0.22  0.006\n",
       "14224 2020-01-03   -0.67  0.30  0.00 -0.14 -0.10  0.006\n",
       "14225 2020-01-06    0.36 -0.20 -0.55 -0.17 -0.26  0.006\n",
       "14226 2020-01-07   -0.19 -0.03 -0.25 -0.12 -0.25  0.006\n",
       "14227 2020-01-08    0.47 -0.17 -0.64 -0.19 -0.17  0.006\n",
       "...          ...     ...   ...   ...   ...   ...    ...\n",
       "15183 2023-10-25   -1.58 -0.02  0.84  1.50  0.20  0.021\n",
       "15184 2023-10-26   -1.15  1.19  1.66 -0.76  0.48  0.021\n",
       "15185 2023-10-27   -0.53 -0.58 -0.57  0.42 -0.96  0.021\n",
       "15186 2023-10-30    1.15 -0.34  0.28 -0.14  0.17  0.021\n",
       "15187 2023-10-31    0.63  0.06 -0.08 -0.83  0.06  0.021\n",
       "\n",
       "[965 rows x 7 columns]"
      ]
     },
     "execution_count": 6,
     "metadata": {},
     "output_type": "execute_result"
    }
   ],
   "source": [
    "data_ff5.reset_index(drop = True, inplace= True)\n",
    "data_ff5 = data_ff5[(data_ff5.Date > '20200101') & (data_ff5.Date <= '20231231')]\n",
    "data_ff5['Date']=pd.to_datetime(data_ff5['Date'])\n",
    "data_ff5"
   ]
  },
  {
   "cell_type": "code",
   "execution_count": 7,
   "id": "a9914547",
   "metadata": {},
   "outputs": [],
   "source": [
    "df_ffs = data_ff5.set_index('Date')"
   ]
  },
  {
   "cell_type": "code",
   "execution_count": 8,
   "id": "54f9c6fb",
   "metadata": {},
   "outputs": [
    {
     "data": {
      "text/html": [
       "<div>\n",
       "<style scoped>\n",
       "    .dataframe tbody tr th:only-of-type {\n",
       "        vertical-align: middle;\n",
       "    }\n",
       "\n",
       "    .dataframe tbody tr th {\n",
       "        vertical-align: top;\n",
       "    }\n",
       "\n",
       "    .dataframe thead th {\n",
       "        text-align: right;\n",
       "    }\n",
       "</style>\n",
       "<table border=\"1\" class=\"dataframe\">\n",
       "  <thead>\n",
       "    <tr style=\"text-align: right;\">\n",
       "      <th></th>\n",
       "      <th>Mkt-RF</th>\n",
       "      <th>SMB</th>\n",
       "      <th>HML</th>\n",
       "      <th>RMW</th>\n",
       "      <th>CMA</th>\n",
       "      <th>RF</th>\n",
       "    </tr>\n",
       "    <tr>\n",
       "      <th>Date</th>\n",
       "      <th></th>\n",
       "      <th></th>\n",
       "      <th></th>\n",
       "      <th></th>\n",
       "      <th></th>\n",
       "      <th></th>\n",
       "    </tr>\n",
       "  </thead>\n",
       "  <tbody>\n",
       "    <tr>\n",
       "      <th>2020-01-02</th>\n",
       "      <td>0.86</td>\n",
       "      <td>-0.97</td>\n",
       "      <td>-0.34</td>\n",
       "      <td>0.24</td>\n",
       "      <td>-0.22</td>\n",
       "      <td>0.006</td>\n",
       "    </tr>\n",
       "    <tr>\n",
       "      <th>2020-01-03</th>\n",
       "      <td>-0.67</td>\n",
       "      <td>0.30</td>\n",
       "      <td>0.00</td>\n",
       "      <td>-0.14</td>\n",
       "      <td>-0.10</td>\n",
       "      <td>0.006</td>\n",
       "    </tr>\n",
       "    <tr>\n",
       "      <th>2020-01-06</th>\n",
       "      <td>0.36</td>\n",
       "      <td>-0.20</td>\n",
       "      <td>-0.55</td>\n",
       "      <td>-0.17</td>\n",
       "      <td>-0.26</td>\n",
       "      <td>0.006</td>\n",
       "    </tr>\n",
       "    <tr>\n",
       "      <th>2020-01-07</th>\n",
       "      <td>-0.19</td>\n",
       "      <td>-0.03</td>\n",
       "      <td>-0.25</td>\n",
       "      <td>-0.12</td>\n",
       "      <td>-0.25</td>\n",
       "      <td>0.006</td>\n",
       "    </tr>\n",
       "    <tr>\n",
       "      <th>2020-01-08</th>\n",
       "      <td>0.47</td>\n",
       "      <td>-0.17</td>\n",
       "      <td>-0.64</td>\n",
       "      <td>-0.19</td>\n",
       "      <td>-0.17</td>\n",
       "      <td>0.006</td>\n",
       "    </tr>\n",
       "    <tr>\n",
       "      <th>...</th>\n",
       "      <td>...</td>\n",
       "      <td>...</td>\n",
       "      <td>...</td>\n",
       "      <td>...</td>\n",
       "      <td>...</td>\n",
       "      <td>...</td>\n",
       "    </tr>\n",
       "    <tr>\n",
       "      <th>2023-10-25</th>\n",
       "      <td>-1.58</td>\n",
       "      <td>-0.02</td>\n",
       "      <td>0.84</td>\n",
       "      <td>1.50</td>\n",
       "      <td>0.20</td>\n",
       "      <td>0.021</td>\n",
       "    </tr>\n",
       "    <tr>\n",
       "      <th>2023-10-26</th>\n",
       "      <td>-1.15</td>\n",
       "      <td>1.19</td>\n",
       "      <td>1.66</td>\n",
       "      <td>-0.76</td>\n",
       "      <td>0.48</td>\n",
       "      <td>0.021</td>\n",
       "    </tr>\n",
       "    <tr>\n",
       "      <th>2023-10-27</th>\n",
       "      <td>-0.53</td>\n",
       "      <td>-0.58</td>\n",
       "      <td>-0.57</td>\n",
       "      <td>0.42</td>\n",
       "      <td>-0.96</td>\n",
       "      <td>0.021</td>\n",
       "    </tr>\n",
       "    <tr>\n",
       "      <th>2023-10-30</th>\n",
       "      <td>1.15</td>\n",
       "      <td>-0.34</td>\n",
       "      <td>0.28</td>\n",
       "      <td>-0.14</td>\n",
       "      <td>0.17</td>\n",
       "      <td>0.021</td>\n",
       "    </tr>\n",
       "    <tr>\n",
       "      <th>2023-10-31</th>\n",
       "      <td>0.63</td>\n",
       "      <td>0.06</td>\n",
       "      <td>-0.08</td>\n",
       "      <td>-0.83</td>\n",
       "      <td>0.06</td>\n",
       "      <td>0.021</td>\n",
       "    </tr>\n",
       "  </tbody>\n",
       "</table>\n",
       "<p>965 rows × 6 columns</p>\n",
       "</div>"
      ],
      "text/plain": [
       "            Mkt-RF   SMB   HML   RMW   CMA     RF\n",
       "Date                                             \n",
       "2020-01-02    0.86 -0.97 -0.34  0.24 -0.22  0.006\n",
       "2020-01-03   -0.67  0.30  0.00 -0.14 -0.10  0.006\n",
       "2020-01-06    0.36 -0.20 -0.55 -0.17 -0.26  0.006\n",
       "2020-01-07   -0.19 -0.03 -0.25 -0.12 -0.25  0.006\n",
       "2020-01-08    0.47 -0.17 -0.64 -0.19 -0.17  0.006\n",
       "...            ...   ...   ...   ...   ...    ...\n",
       "2023-10-25   -1.58 -0.02  0.84  1.50  0.20  0.021\n",
       "2023-10-26   -1.15  1.19  1.66 -0.76  0.48  0.021\n",
       "2023-10-27   -0.53 -0.58 -0.57  0.42 -0.96  0.021\n",
       "2023-10-30    1.15 -0.34  0.28 -0.14  0.17  0.021\n",
       "2023-10-31    0.63  0.06 -0.08 -0.83  0.06  0.021\n",
       "\n",
       "[965 rows x 6 columns]"
      ]
     },
     "execution_count": 8,
     "metadata": {},
     "output_type": "execute_result"
    }
   ],
   "source": [
    "df_ffs"
   ]
  },
  {
   "cell_type": "markdown",
   "id": "4dfbbc7f",
   "metadata": {},
   "source": [
    "### ADS Index"
   ]
  },
  {
   "cell_type": "code",
   "execution_count": 9,
   "id": "029c0bbd",
   "metadata": {},
   "outputs": [],
   "source": [
    "data_ads = pd.read_excel('ADS Index Most Current Vintage.xlsx')"
   ]
  },
  {
   "cell_type": "code",
   "execution_count": 10,
   "id": "6c75b5c0",
   "metadata": {},
   "outputs": [
    {
     "data": {
      "text/html": [
       "<div>\n",
       "<style scoped>\n",
       "    .dataframe tbody tr th:only-of-type {\n",
       "        vertical-align: middle;\n",
       "    }\n",
       "\n",
       "    .dataframe tbody tr th {\n",
       "        vertical-align: top;\n",
       "    }\n",
       "\n",
       "    .dataframe thead th {\n",
       "        text-align: right;\n",
       "    }\n",
       "</style>\n",
       "<table border=\"1\" class=\"dataframe\">\n",
       "  <thead>\n",
       "    <tr style=\"text-align: right;\">\n",
       "      <th></th>\n",
       "      <th>Unnamed: 0</th>\n",
       "      <th>ADS_Index</th>\n",
       "    </tr>\n",
       "  </thead>\n",
       "  <tbody>\n",
       "    <tr>\n",
       "      <th>0</th>\n",
       "      <td>1960:03:01</td>\n",
       "      <td>-0.572930</td>\n",
       "    </tr>\n",
       "    <tr>\n",
       "      <th>1</th>\n",
       "      <td>1960:03:02</td>\n",
       "      <td>-0.621487</td>\n",
       "    </tr>\n",
       "    <tr>\n",
       "      <th>2</th>\n",
       "      <td>1960:03:03</td>\n",
       "      <td>-0.666982</td>\n",
       "    </tr>\n",
       "    <tr>\n",
       "      <th>3</th>\n",
       "      <td>1960:03:04</td>\n",
       "      <td>-0.709432</td>\n",
       "    </tr>\n",
       "    <tr>\n",
       "      <th>4</th>\n",
       "      <td>1960:03:05</td>\n",
       "      <td>-0.748855</td>\n",
       "    </tr>\n",
       "    <tr>\n",
       "      <th>...</th>\n",
       "      <td>...</td>\n",
       "      <td>...</td>\n",
       "    </tr>\n",
       "    <tr>\n",
       "      <th>23282</th>\n",
       "      <td>2023:11:28</td>\n",
       "      <td>-0.147276</td>\n",
       "    </tr>\n",
       "    <tr>\n",
       "      <th>23283</th>\n",
       "      <td>2023:11:29</td>\n",
       "      <td>-0.143545</td>\n",
       "    </tr>\n",
       "    <tr>\n",
       "      <th>23284</th>\n",
       "      <td>2023:11:30</td>\n",
       "      <td>-0.140216</td>\n",
       "    </tr>\n",
       "    <tr>\n",
       "      <th>23285</th>\n",
       "      <td>2023:12:01</td>\n",
       "      <td>-0.137288</td>\n",
       "    </tr>\n",
       "    <tr>\n",
       "      <th>23286</th>\n",
       "      <td>2023:12:02</td>\n",
       "      <td>-0.134527</td>\n",
       "    </tr>\n",
       "  </tbody>\n",
       "</table>\n",
       "<p>23287 rows × 2 columns</p>\n",
       "</div>"
      ],
      "text/plain": [
       "       Unnamed: 0  ADS_Index\n",
       "0      1960:03:01  -0.572930\n",
       "1      1960:03:02  -0.621487\n",
       "2      1960:03:03  -0.666982\n",
       "3      1960:03:04  -0.709432\n",
       "4      1960:03:05  -0.748855\n",
       "...           ...        ...\n",
       "23282  2023:11:28  -0.147276\n",
       "23283  2023:11:29  -0.143545\n",
       "23284  2023:11:30  -0.140216\n",
       "23285  2023:12:01  -0.137288\n",
       "23286  2023:12:02  -0.134527\n",
       "\n",
       "[23287 rows x 2 columns]"
      ]
     },
     "execution_count": 10,
     "metadata": {},
     "output_type": "execute_result"
    }
   ],
   "source": [
    "data_ads"
   ]
  },
  {
   "cell_type": "code",
   "execution_count": 11,
   "id": "f83db21d",
   "metadata": {},
   "outputs": [],
   "source": [
    "data_ads.rename(columns = {'Unnamed: 0':'Date'},inplace=True)"
   ]
  },
  {
   "cell_type": "code",
   "execution_count": 12,
   "id": "fdd52fc2",
   "metadata": {},
   "outputs": [],
   "source": [
    "data_ads['Date'] = data_ads['Date'].str.replace(':', '-')"
   ]
  },
  {
   "cell_type": "code",
   "execution_count": 13,
   "id": "4073d55f",
   "metadata": {},
   "outputs": [],
   "source": [
    "data_ads = data_ads[(data_ads.Date > '2020-01-01') & (data_ads.Date <= '2023-12-31')]"
   ]
  },
  {
   "cell_type": "code",
   "execution_count": 14,
   "id": "22a471c3",
   "metadata": {},
   "outputs": [],
   "source": [
    "data_ads['Date'] = pd.to_datetime(data_ads['Date'])"
   ]
  },
  {
   "cell_type": "code",
   "execution_count": 15,
   "id": "67d3e33f",
   "metadata": {},
   "outputs": [],
   "source": [
    "df_ads = data_ads.set_index('Date')"
   ]
  },
  {
   "cell_type": "code",
   "execution_count": 16,
   "id": "afb71ff6",
   "metadata": {},
   "outputs": [
    {
     "data": {
      "text/html": [
       "<div>\n",
       "<style scoped>\n",
       "    .dataframe tbody tr th:only-of-type {\n",
       "        vertical-align: middle;\n",
       "    }\n",
       "\n",
       "    .dataframe tbody tr th {\n",
       "        vertical-align: top;\n",
       "    }\n",
       "\n",
       "    .dataframe thead th {\n",
       "        text-align: right;\n",
       "    }\n",
       "</style>\n",
       "<table border=\"1\" class=\"dataframe\">\n",
       "  <thead>\n",
       "    <tr style=\"text-align: right;\">\n",
       "      <th></th>\n",
       "      <th>ADS_Index</th>\n",
       "    </tr>\n",
       "    <tr>\n",
       "      <th>Date</th>\n",
       "      <th></th>\n",
       "    </tr>\n",
       "  </thead>\n",
       "  <tbody>\n",
       "    <tr>\n",
       "      <th>2020-01-02</th>\n",
       "      <td>-0.308743</td>\n",
       "    </tr>\n",
       "    <tr>\n",
       "      <th>2020-01-03</th>\n",
       "      <td>-0.292342</td>\n",
       "    </tr>\n",
       "    <tr>\n",
       "      <th>2020-01-04</th>\n",
       "      <td>-0.276362</td>\n",
       "    </tr>\n",
       "    <tr>\n",
       "      <th>2020-01-05</th>\n",
       "      <td>-0.260796</td>\n",
       "    </tr>\n",
       "    <tr>\n",
       "      <th>2020-01-06</th>\n",
       "      <td>-0.245729</td>\n",
       "    </tr>\n",
       "    <tr>\n",
       "      <th>...</th>\n",
       "      <td>...</td>\n",
       "    </tr>\n",
       "    <tr>\n",
       "      <th>2023-11-28</th>\n",
       "      <td>-0.147276</td>\n",
       "    </tr>\n",
       "    <tr>\n",
       "      <th>2023-11-29</th>\n",
       "      <td>-0.143545</td>\n",
       "    </tr>\n",
       "    <tr>\n",
       "      <th>2023-11-30</th>\n",
       "      <td>-0.140216</td>\n",
       "    </tr>\n",
       "    <tr>\n",
       "      <th>2023-12-01</th>\n",
       "      <td>-0.137288</td>\n",
       "    </tr>\n",
       "    <tr>\n",
       "      <th>2023-12-02</th>\n",
       "      <td>-0.134527</td>\n",
       "    </tr>\n",
       "  </tbody>\n",
       "</table>\n",
       "<p>1431 rows × 1 columns</p>\n",
       "</div>"
      ],
      "text/plain": [
       "            ADS_Index\n",
       "Date                 \n",
       "2020-01-02  -0.308743\n",
       "2020-01-03  -0.292342\n",
       "2020-01-04  -0.276362\n",
       "2020-01-05  -0.260796\n",
       "2020-01-06  -0.245729\n",
       "...               ...\n",
       "2023-11-28  -0.147276\n",
       "2023-11-29  -0.143545\n",
       "2023-11-30  -0.140216\n",
       "2023-12-01  -0.137288\n",
       "2023-12-02  -0.134527\n",
       "\n",
       "[1431 rows x 1 columns]"
      ]
     },
     "execution_count": 16,
     "metadata": {},
     "output_type": "execute_result"
    }
   ],
   "source": [
    "df_ads"
   ]
  },
  {
   "cell_type": "markdown",
   "id": "e6f2e72a",
   "metadata": {},
   "source": [
    "### Fred"
   ]
  },
  {
   "cell_type": "code",
   "execution_count": 17,
   "id": "cd95bd0b",
   "metadata": {},
   "outputs": [],
   "source": [
    "fred = Fred(api_key='6fff19c7fff2c26131d75747d34452d6')"
   ]
  },
  {
   "cell_type": "code",
   "execution_count": 18,
   "id": "464692a0",
   "metadata": {},
   "outputs": [
    {
     "data": {
      "text/plain": [
       "<fredapi.fred.Fred at 0x7fa9cbc42be0>"
      ]
     },
     "execution_count": 18,
     "metadata": {},
     "output_type": "execute_result"
    }
   ],
   "source": [
    "fred"
   ]
  },
  {
   "cell_type": "code",
   "execution_count": 19,
   "id": "ddc27b39",
   "metadata": {},
   "outputs": [],
   "source": [
    "varList = ['AMERIBOR', 'T10YIE', 'T5YIE', 'BAMLH0A0HYM2','BAMLH0A0HYM2EY', \n",
    "               'DGS10', 'DGS1', 'RIFSPPFAAD90NB', 'DCPN3M', 'DCPF1M', 'DCOILWTICO', \n",
    "               'DHHNGSP', 'USRECD', 'USRECDM', 'USRECDP'] "
   ]
  },
  {
   "cell_type": "code",
   "execution_count": 20,
   "id": "8a278131",
   "metadata": {},
   "outputs": [],
   "source": [
    "SP500 = fred.get_series('SP500')\n",
    "SP500.name = 'SP500'\n",
    "df_fred = SP500"
   ]
  },
  {
   "cell_type": "code",
   "execution_count": 21,
   "id": "7c935811",
   "metadata": {},
   "outputs": [
    {
     "data": {
      "text/plain": [
       "2013-12-13    1775.32\n",
       "2013-12-16    1786.54\n",
       "2013-12-17    1781.00\n",
       "2013-12-18    1810.65\n",
       "2013-12-19    1809.60\n",
       "               ...   \n",
       "2023-12-06    4549.34\n",
       "2023-12-07    4585.59\n",
       "2023-12-08    4604.37\n",
       "2023-12-11    4622.44\n",
       "2023-12-12    4643.70\n",
       "Name: SP500, Length: 2608, dtype: float64"
      ]
     },
     "execution_count": 21,
     "metadata": {},
     "output_type": "execute_result"
    }
   ],
   "source": [
    "df_fred"
   ]
  },
  {
   "cell_type": "code",
   "execution_count": null,
   "id": "29075761",
   "metadata": {},
   "outputs": [],
   "source": [
    "# merge data series\n",
    "for i in range(0, len(varList)):\n",
    "    data = fred.get_series(varList[i])\n",
    "    data.name = varList[i]\n",
    "    df_fred = pd.merge(df_fred, data, left_index=True, right_index=True)"
   ]
  },
  {
   "cell_type": "code",
   "execution_count": null,
   "id": "1994e8c5",
   "metadata": {},
   "outputs": [],
   "source": [
    "df_fred"
   ]
  },
  {
   "cell_type": "code",
   "execution_count": null,
   "id": "8ad1b568",
   "metadata": {},
   "outputs": [],
   "source": [
    "df_fred.info()"
   ]
  },
  {
   "cell_type": "markdown",
   "id": "de6aa78a",
   "metadata": {},
   "source": [
    "### Merging Data"
   ]
  },
  {
   "cell_type": "code",
   "execution_count": null,
   "id": "008b0ad4",
   "metadata": {},
   "outputs": [],
   "source": [
    "DATA_part1 = pd.merge(df_ffs, df_ads, left_index=True, right_index=True)"
   ]
  },
  {
   "cell_type": "code",
   "execution_count": null,
   "id": "02eddbce",
   "metadata": {},
   "outputs": [],
   "source": [
    "DATA = pd.merge(DATA_part1, df_fred,left_index=True, right_index=True)"
   ]
  },
  {
   "cell_type": "code",
   "execution_count": null,
   "id": "f53d8f18",
   "metadata": {},
   "outputs": [],
   "source": [
    "DATA.reset_index(inplace=True)\n",
    "DATA = DATA.rename(columns = {'index':'Date'})"
   ]
  },
  {
   "cell_type": "code",
   "execution_count": null,
   "id": "d1a4cb86",
   "metadata": {},
   "outputs": [],
   "source": [
    "DATA_part1"
   ]
  },
  {
   "cell_type": "markdown",
   "id": "78a84dc4",
   "metadata": {},
   "source": [
    "### Collecting Lululemon stocks form yfinance"
   ]
  },
  {
   "cell_type": "code",
   "execution_count": null,
   "id": "c42fbe94",
   "metadata": {},
   "outputs": [],
   "source": [
    "start_date = datetime(2020,1,1)\n",
    "end_date = datetime(2023,12,31)\n",
    "\n",
    "LULU = yf.download('LULU',start_date ,end_date)\n",
    "LULU.reset_index(inplace=True)"
   ]
  },
  {
   "cell_type": "code",
   "execution_count": null,
   "id": "9dd11237",
   "metadata": {},
   "outputs": [],
   "source": [
    "LULU"
   ]
  },
  {
   "cell_type": "code",
   "execution_count": null,
   "id": "335cb8e3",
   "metadata": {},
   "outputs": [],
   "source": [
    "LULU_new = pd.merge(LULU, DATA,on = 'Date',how='inner')"
   ]
  },
  {
   "cell_type": "code",
   "execution_count": null,
   "id": "398de47f",
   "metadata": {},
   "outputs": [],
   "source": [
    "LULU_new"
   ]
  },
  {
   "cell_type": "code",
   "execution_count": null,
   "id": "51bcef86",
   "metadata": {},
   "outputs": [],
   "source": [
    "# Yesterday's Close Price\n",
    "LULU_new['Yest_Close']  = LULU_new['Adj Close'].shift(1)"
   ]
  },
  {
   "cell_type": "code",
   "execution_count": null,
   "id": "5e1966ce",
   "metadata": {},
   "outputs": [],
   "source": [
    "# Tesla Stock Returns\n",
    "LULU_new['stock_return'] = (LULU_new['Adj Close']-LULU_new['Yest_Close'])/(LULU_new['Yest_Close'])"
   ]
  },
  {
   "cell_type": "code",
   "execution_count": null,
   "id": "d56947fc",
   "metadata": {},
   "outputs": [],
   "source": [
    "LULU_new"
   ]
  },
  {
   "cell_type": "code",
   "execution_count": null,
   "id": "9fe79729",
   "metadata": {},
   "outputs": [],
   "source": [
    "LULU_new = LULU_new[LULU_new['Yest_Close'].notna()]\n",
    "LULU_new = LULU_new[LULU_new['Mkt-RF'].notna()]\n",
    "LULU_new = LULU_new[LULU_new['SMB'].notna()]\n",
    "LULU_new = LULU_new[LULU_new['HML'].notna()]\n",
    "LULU_new = LULU_new[LULU_new['RF'].notna()]"
   ]
  },
  {
   "cell_type": "markdown",
   "id": "115bda9c",
   "metadata": {},
   "source": [
    "### Correlation"
   ]
  },
  {
   "cell_type": "code",
   "execution_count": null,
   "id": "6df0b0b9",
   "metadata": {},
   "outputs": [],
   "source": [
    "x = LULU_new.iloc[1:, 1:]\n",
    "y = LULU_new.iloc[:, -2]\n",
    "corrmat = LULU_new.corr()\n",
    "top_corr_features = corrmat.index\n",
    "plt.figure(figsize = (14,10))\n",
    "hm = sns.heatmap(LULU_new[top_corr_features].corr(), annot = True, cmap = \"YlOrRd\")"
   ]
  },
  {
   "cell_type": "code",
   "execution_count": null,
   "id": "9fa4c9bf",
   "metadata": {},
   "outputs": [],
   "source": [
    "X = LULU_new[['Mkt-RF', 'SMB', 'HML', 'ADS_Index']]/100\n",
    "y = LULU_new['stock_return'] - LULU_new['RF']\n",
    "X = sm.add_constant(X)\n",
    "\n",
    "ff_model = sm.OLS(y, X).fit()\n",
    "print(ff_model.summary())"
   ]
  },
  {
   "cell_type": "code",
   "execution_count": null,
   "id": "1e87364b",
   "metadata": {},
   "outputs": [],
   "source": [
    "X"
   ]
  },
  {
   "cell_type": "code",
   "execution_count": null,
   "id": "2ae0e6fa",
   "metadata": {},
   "outputs": [],
   "source": [
    "y"
   ]
  },
  {
   "cell_type": "code",
   "execution_count": null,
   "id": "dc0c86de",
   "metadata": {},
   "outputs": [],
   "source": [
    "ff_model.params"
   ]
  },
  {
   "cell_type": "code",
   "execution_count": null,
   "id": "bb233b9b",
   "metadata": {},
   "outputs": [],
   "source": [
    "LULU_new.to_csv('INFOP7374_FeatureMart4GS.csv', index=True)"
   ]
  }
 ],
 "metadata": {
  "kernelspec": {
   "display_name": "Python 3 (ipykernel)",
   "language": "python",
   "name": "python3"
  },
  "language_info": {
   "codemirror_mode": {
    "name": "ipython",
    "version": 3
   },
   "file_extension": ".py",
   "mimetype": "text/x-python",
   "name": "python",
   "nbconvert_exporter": "python",
   "pygments_lexer": "ipython3",
   "version": "3.9.16"
  }
 },
 "nbformat": 4,
 "nbformat_minor": 5
}
